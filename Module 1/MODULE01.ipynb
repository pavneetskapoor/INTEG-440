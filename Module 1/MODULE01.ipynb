{
 "cells": [
  {
   "cell_type": "markdown",
   "metadata": {},
   "source": [
    "<br><br><font color=\"gray\">INTEG 440 / 640<br>MODULE 1 of *Doing Computational Social Science*</font>\n",
    "\n",
    "# <font color=\"green\" size=40>THE CHALLENGES AND OPPORTUNITIES OF COMPUTATIONAL SOCIAL SCIENCE</font>\n",
    "\n",
    "<br>\n",
    "\n",
    "Dr. [John McLevey](http://www.johnmclevey.com)    \n",
    "Department of Knowledge Integration   \n",
    "Department of Sociology & Legal Studies     \n",
    "University of Waterloo         \n",
    "\n",
    "<hr>\n",
    "\n",
    "* INTEG 440 (Undergraduate): This module is worth <font color='#437AB2'>**12%**</font> of your final grade. The questions in this module add up to 10 points. \n",
    "* INTEG 640 (Graduate): This module is worth <font color='#437AB2'>**5%**</font> of your final grade. The questions in this module add up to 10 points. \n",
    "\n",
    "<hr>\n",
    "\n",
    "# Table of Contents \n",
    "\n",
    "* [Overview](#o)\n",
    "* [Learning Outcomes](#lo) \n",
    "* [Prerequisite Knowledge](#pk) \n",
    "* [Assigned Readings](#ar) \n",
    "* [Question Links](#ql)\n",
    "* [A Quick Reminder: How to Answer Questions and Submit Your Work](#rem)\n",
    "* [**Challenges and Opportunities**](#co)\n",
    "* [Submit Your Notebook](#sub)\n",
    "\n",
    "<hr>\n",
    "\n",
    "\n",
    "# Overview  <a id='o'></a>\n",
    "\n",
    "This module is a high-level introduction to the challenges and opportunities of the emerging field of computational social science. In this module and the next, we will consider some implications of the recent explosion of digital data and of increasingly powerful computational methods. We will do so while balancing two perspectives: as scientific **researchers** who get to work with exciting new data and methods with revolutionary scientific potential, and as **citizens** who are affected by the things that other people and institutions do with new data and methods. As both researchers and citizens, we have stakes in making this field as good as it can be. Following this high-level introduction, we will consider some of the specific challenges and opportunities associated with large-scale observational data, which includes nearly all data collected from the web and other digital sources. \n",
    "\n",
    "<hr>\n",
    "\n",
    "# Learning Outcomes  <a id='lo'></a>\n",
    "\n",
    "Upon successful completion of this module, you will be able to: \n",
    "\n",
    "1. Describe some of the most important challenges and opportunities confronting the emerging field of computational social science\n",
    "2. Compare the interests and perspectives of researchers, citizens, and decision makers in the context of debates about large-scale digital data and computational methods\n",
    "3. Accurately characterize the 10 common characteristics of digital data\n",
    "    * Big\n",
    "    * Always-on\n",
    "    * Nonreactive\n",
    "    * Incomplete\n",
    "    * Inaccessible\n",
    "    * Nonrepresentative\n",
    "    * Drifting\n",
    "    * Algorithmically confounded\n",
    "    * Dirty\n",
    "    * Sensitive\n",
    "4. Compare three common research strategies employed by computational social scientists \n",
    "    * Counting things\n",
    "    * Forecasting and nowcasting\n",
    "    * Approximating experiments\n",
    "\n",
    "<hr>\n",
    "\n",
    "# Prerequisite Knowledge  <a id='pk'></a>\n",
    "\n",
    "Some previous experience with research design, theory, and methods in the social sciences is an asset but is not required. This module does not assume any specific background knowledge. \n",
    "\n",
    "<hr>\n",
    "\n",
    "# Assigned Readings  <a id='ar'></a>\n",
    "\n",
    "This module assumes you have completed the assigned readings, which are listed immediately below. The readings provide a detailed explanation of the core concepts covered in this module. \n",
    "\n",
    "* <font color=\"green\">Chapter 1 ([“Introduction”](https://www.bitbybitbook.com/en/1st-ed/introduction/)) from Matt Salganik’s (2017) *Bit by Bit*. [Available online for free.](https://www.bitbybitbook.com/en/1st-ed/introduction/)</font>\n",
    "* <font color=\"green\">Chapter 2 ([“Observing Behaviour”](https://www.bitbybitbook.com/en/1st-ed/observing-behavior)) from Matt Salganik’s (2017) Bit by Bit. [Available online for free.](https://www.bitbybitbook.com/en/1st-ed/observing-behavior/)</font>\n",
    "\n",
    "I recommend that you (1) complete the assigned readings, (2) attempt to complete this module without consulting the readings, making notes to indicate where you are uncertain, (3) go back to the readings to fill in the gaps in your knowledge, and finally (4) attempt to complete the parts of this module that you were unable to complete the first time around.\n",
    "\n",
    "This module notebook includes highly condensed overviews of *some* of the key material from the assigned reading. This is intended as a *supplement* to the assigned reading, *not as a replacement for it*. These high-level summaries do not contain enough information for you to successfully complete the exercises that are part of this module, and they do not cover every relevant topic. \n",
    "\n",
    "<hr>"
   ]
  },
  {
   "cell_type": "markdown",
   "metadata": {},
   "source": [
    "# A Quick Reminder: How to Answer Questions and Submit Your Work <a id='rem'></a>\n",
    "\n",
    "This module notebook and the 11 that follow require you to (1) answer questions *inside each notebook* and (2) submit the modified notebook to LEARN. I then evaluate your answers and provide feedback and a grade for each module notebook on LEARN. The course instructions, found in LEARN on the Module 1 Content page, are a detailed guide to working with Jupyter Notebooks. If you have not reviewed them carefully, *please do so now*.\n",
    "\n",
    "Each of the questions you need to answer are split into two cells each. The first cell contains the text of the question itself. Your response to that question should be typed into the *second* cell, which will immediately follow the question cell and will include the phrase \"Your Answer Here.\" Double click the cell to enable edit mode and then type your answer into that second cell. When you are finished, \"run\" the cell by typing `Shift + Return` or clicking the `Run` button from the Jupyter toolbar near the top of your screen. Finally, after you answer each question, you should get in the habit of saving and checkpointing your notebook. To do so, use the the `Command + S` (Mac) or `Control + S` (Linux and Windows) keyboard shortcut, or select `Save and Checkpoint` from the `File` menu item in the Jupyter Notebook.\n",
    "\n",
    "When you have answered **all** questions in the notebook, download the notebook with the `.ipynb` format and upload it to LEARN. \n",
    "\n",
    "This module and the one that follows have several questions that you are expected to provide lengthy and thoughtful responses to. Modules 3 - 12 are different; they have more questions that require shorter responses, and they include some questions that require writing or modifying code. \n",
    "\n",
    "<hr>\n",
    "\n",
    "\n",
    "# Question Links <a id='ql'></a>\n",
    "\n",
    "Make sure you have answered all of the following questions before submitting this notebook on LEARN. \n",
    "\n",
    "1. [Question 1](#yt1) \n",
    "2. [Question 2](#yt2) \n",
    "3. [Question 3](#yt3) \n",
    "4. [Question 4](#yt4) \n",
    "5. [Question 5](#yt5)\n",
    "\n",
    "<hr>"
   ]
  },
  {
   "cell_type": "markdown",
   "metadata": {},
   "source": [
    "# Challenges and Opportunities <a id='co'>\n",
    "\n",
    "### <font color=\"green\">YOUR TURN! (Question 1)</font> <a id='yt1'></a>\n",
    "\n",
    "Question is Worth: <font color=\"green\">2 points</font>\n",
    "\n",
    "In [Section 1.1 \"An Ink Blot\"](https://www.bitbybitbook.com/en/1st-ed/introduction/ink-blot/) of *Bit by Bit*, Matt Salganik starts by noting that the high-level challenges and opportunities of computational social science itself can be interpreted differently by social scientists, data scientists, business people, privacy advocates, citizens, and policy makers. Where do you *currently* see these issues? Which of these (or other) perspectives do you currently see as most aligned with your own? Why? "
   ]
  },
  {
   "cell_type": "markdown",
   "metadata": {},
   "source": [
    "# Your Answer Here \n",
    "\n",
    "Please do not write more than 500 words. \n",
    "\n",
    "These issues of varying perspective on the challenges and opportunities involved in computational social science can be in attribute to the cumulation of experiences that different types of people have. A lot of these issues can be seen within the common day among large social network companies such as Facebook, who have been under fire over the years due to involvement with poltical advertising and fake news. For Facebook, their perspective was to provide an API for data outlet and usage by approved 3rd party apps but later it had become a case of scandal among analytics firms using their data with malicious intent to impose politically targeted messages. Social scientists and privacy advocates would see this as an issue of ethics around the fact of giving people's personal data to develop and manipulate perspectives of people. Another perspective would be to consider how Facebook solemly let their data to be exposed to the likes of 3rd parties and sold under the nose without thorough review of intent. I look at computational social science through the premise of a business data scientist primarily due to my exposure to the world of tech companies and manipulating big data to drive business OKRs. Through one of my current courses, machine intelligence, I'm learning how to use methodologies like t-sne, neural networks, and k-means to apply to real world problems. For the premise of my ML project, I'm looking at investigating and predicting how much funding a startup can receive in a series based on previously accumulated data. For me computational social science provides both a cool way to investigate the world we live in through the abundance of big-data but also seeing ways how companies can use big-data to better drive their causes. Companies like DarwinAI or ElementAI which use existing big-data within company markets to help growth across various laterals. As I gain more experience/exposure in the use of algorithms and how I can potentially find meaning through data, I believe I will definitely look at the world from more of a social science approach as a way to find interesting meaning through the current day world. "
   ]
  },
  {
   "cell_type": "markdown",
   "metadata": {},
   "source": [
    "### <font color=\"green\">YOUR TURN! (Question 2)</font> <a id='yt2'></a>\n",
    "\n",
    "Question is Worth: <font color=\"green\">2 points</font>\n",
    "\n",
    "Salganik differentiates between **readymade** and **custommade** data. In your own words (i.e. don't simply reproduce exactly what Salganik wrote), compare these two types of data. What are the key strengths and weaknesses of both? To the best of your current knowledge, what role do these two types of data play in computational social science? Be sure to provide specific examples in your answer. "
   ]
  },
  {
   "cell_type": "markdown",
   "metadata": {},
   "source": [
    "\n",
    "**Readymade** and **custommade** data are different in the essence that they both serve a different purpose and are different means to a different end. Readymade data is one that is already existing and is now being repurposed for another cause. An example of readymade data would be working with existing data sets on Kaggle to do research or experiments that are apart from the intended creation. Contrarily, custommade data is one that is primarily created for the intended purpose of the researcher and is essentially developed from the ground up. Readymade data sets will be fast and efficient in order to repurpose and use the data but will not provide the level of desired granurality and customization that custommade data can provide. Custommade data can be implementing new touchpoints within an application to assess user behaaviour based on the specific needs of the research. In this context, you are essentally defining the key characteristics you require of the data. The tradeoff exists between moving fast and being resourceful or getting the right data. In computational social science, readymade and custommade data play a large part in the research that is done as both can be effectively used towards finding unique insights. Researchers are able to answer unique questions and utilize both new and existing resources to inform a greater insight, which was the case for include (like here) examples"
   ]
  },
  {
   "cell_type": "markdown",
   "metadata": {},
   "source": [
    "### <font color=\"green\">YOUR TURN! (Question 3)</font> <a id='yt3'></a>\n",
    "\n",
    "Question is Worth: <font color=\"green\">2 points</font>\n",
    "\n",
    "Computational social scientists often have access to large and / or complex datasets. These datasets enable all kinds of exciting new research, but they also come with their own unique problems. One common problem is that the available data does not align with the operational definitions of key social scientific concepts. This complicates the processes of *conceptualization* and *operationalization* that are central to good research design. In the cell below, describe some of the ways computational social scientists and data scientists address this fundamental problem. "
   ]
  },
  {
   "cell_type": "markdown",
   "metadata": {},
   "source": [
    "Computational social scientists and data scientists solve this fundamental problem of misalignment between available data and social scientific concepts by thoroughly understanding the data and it's respective processes. By understanding the intention, the creators of the dataset, and processes, researchers can plan for how to effectively use the data under compliance. Additionally, researchers can conceptualize and develop key requirements for their ideal dataset to conduct research and do comparative analysis with existing datasets to observe differences that need to be compensated/mitigated for. Gaining knowledge of the characteristics that the available datasets of interest have will help to understand the strengths and weaknesses that they can have within the research. "
   ]
  },
  {
   "cell_type": "markdown",
   "metadata": {},
   "source": [
    "### <font color=\"green\">YOUR TURN! (Question 4)</font> <a id='yt4'></a>\n",
    "\n",
    "Question is Worth: <font color=\"green\">2 points</font>\n",
    "\n",
    "Salganik breaks down 10 characteristics that are common for readymade data from government and industry sources. Some of these characteristics are good, some are bad. In the cell below, provide short descriptions of each characteristic. Use your own words instead of copying text directly from Salganik. Be sure to provide an example of each characteristic. \n",
    "\n",
    "* Big\n",
    "* Always-on\n",
    "* Nonreactive\n",
    "* Incomplete\n",
    "* Inaccessible\n",
    "* Nonrepresentative\n",
    "* Drifting\n",
    "* Algorithmically confounded\n",
    "* Dirty\n",
    "* Sensitive"
   ]
  },
  {
   "cell_type": "markdown",
   "metadata": {},
   "source": [
    "# Your Answer Here \n",
    "\n",
    "Please do not write more than 60 words for each characteristic. \n",
    "\n",
    "#### Big\n",
    "Refers to datasets that are relatively big in scale. With big datasets, they can solve unique problems of certain types but are prone to systematic error in the course of research leading to inaccurate results within the end. Big datasets should be considered carefully and thoroughly examined in their sources. Ex: \n",
    "\n",
    "#### Always-on\n",
    "Refers to a system in which data is collected over time to develop interesting research that can be used for both retrospective and present day viewpoints. However, there can be implications that occur if the inherent source for such dynamic data is also changing. Ex. of Always-on data: \n",
    "\n",
    "#### Nonreactive\n",
    "Is in relation to the reactivity that participants tend to exhibit during research. Participants tend to exhibit adjusted forms of behaviour or participation due to their awareness of being observed, which is not the case in big data. Due to the sheer size of data, it's intended that participants are generally not aware they're being researched which falls into subsequent issues regarding surveillance and ethics. Ex:\n",
    "\n",
    "#### Incomplete\n",
    "Data that is incomplete is subject to not meeting the optimal characteristics that researchers require in order to do their proposed research. Salganik mentions three types of incompleteness in data: information on demographic of participants, their respective behavior on other platforms, and the general notion of being able to manifest theoretical constructs effectively. Ex: \n",
    "\n",
    "#### Inaccessible\n",
    "A lot of data is inaccessible to researchers due to ethical and confidential barriers that are setup by governments and corporations to protect such sensitive data. These institutions can provide limited access upon request or potentially all their data under confidentiality agreements. Ex: \n",
    "\n",
    "#### Nonrepresentative\n",
    "Nonrepresentative data is data that in particular represents a larger entity or characteristic. For this particular data, its not good to make generalizations outside of the data in which the focus lies since there is no scaled entity the data represents. However, making in-sample analysis is powerful when you know what you're looking for. While observations could potentially be transportable, it is highly likely they are not because the difference in nature of sample vs population. \n",
    "\n",
    "#### Drifting\n",
    "Many big-data systems within the common world are susceptible to drift in regards to population, behaviour, and system drift which makes it hard to assess data over time since the underlying measurement system is one that constantly requires change. \n",
    "\n",
    "#### Algorithmically confounded\n",
    "Is a major concern among data scientists which essentially states that nonreactive big-data or the notion of observing user action is in subject to a highly engineered environment which intentionally induces certain actions (targeted ads, casinos, etc.)\n",
    "\n",
    "#### Dirty\n",
    "Big-data is very often contaminated with unuseful and uninteresting data which provides no meaning to any sort of analysis. To tackle this, you must be clear in your intention of data analysis and know what to look for in order to clean your data respectively and know your data fully. \n",
    "\n",
    "#### Sensitive\n",
    "Sensitive data can be considered as data that the collecting institution or it's participants/customers find to be sensitive in nature to them. This sort of data is typically not disclosed unless there are certain measures taken to de-sensitize the data. However, the concept of sensitivity is subjective to the underlying principles that a government/institution holds or it's collective party of participants/customers. Sensitivity can also occur without confirmed consent from users which presents an array of ethical concerns on it's own. Ex:  "
   ]
  },
  {
   "cell_type": "markdown",
   "metadata": {},
   "source": [
    "### <font color=\"green\">YOUR TURN! (Question 5)</font> <a id='yt5'></a>\n",
    "\n",
    "Question is Worth: <font color=\"green\">2 points</font>\n",
    "\n",
    "Given the 10 common characteristics of big data, Salganik proposes three potentially useful research strategies that computational social scientists can use. In the cell below, describe and compare each of these three strategies. \n",
    "\n",
    "* Counting things\n",
    "* Forecasting and nowcasting\n",
    "* Approximating experiments"
   ]
  },
  {
   "cell_type": "markdown",
   "metadata": {},
   "source": [
    "### Counting things\n",
    "Looking for research in the context of counting, a core fundamental in research, that is important or interesting are the key drivers for conducting research that has measurable or actionable impact. Counting can be done in various different ways but it's the matter of counting the right things in order to find patterns of meaning. This can be done in an efficient way through the process of supervised learning, ie. labelling a small set of data to help infer the larger set of data through machine learning models.  \n",
    "\n",
    "### Forecasting and nowcasting\n",
    "Forecasting is still a very developing part of social research and holds a fair share of cons since predicting the future is difficult. By combining methodologies of forecasting and data to measure the current state of the world, \"nowcasting\" can be employed as a means of analysis for accurate estimates of things that are going on right now. However, you must be wary of the methodologies implemented with big-data and correctly assessed in considering all edge cases in order to develop accurate measurements. Any measurements that are lagged by time due to processing and cleaning can be more accurately processed through the use of forecasting methods. \n",
    "\n",
    "### Approximating experiments\n",
    "To deal with non-experimental data, two strategies can be employed in regards to big-data which are natural experiments and matching. With logical reasoning and non-experimental approaches, you can implement these in order to develop randomized controlled experiments. Where people are randomly assigned a certain treatment based on some natural event, researchers can design control groups and measure based on treatment to uncover new insights to inform new insight between groups. With big-data you can uncover important issues like heterogenerity and mechanisms. This stems from a process of looking at always on-data and relating to random events to uncover meaning from different groups. Matching is one adjustment process that can be made within non-experimental data in regards to groups who receive treatment where cluster similar people in regards to those that are not directly in interest for the treatment. With matching, both the intepretation of results must be looked at from the regards of matched groups alongside considering entities that inherently were not built to be matched due to external factors/circumstances."
   ]
  },
  {
   "cell_type": "markdown",
   "metadata": {},
   "source": [
    "<hr>\n",
    "\n",
    "# <font color=\"green\">Do You See Something That Could Be Better?</font>\n",
    "\n",
    "I am committed to collecting student feedback to continuously improve this course for future students. I would like to invite you to help me make those improvements. \n",
    "\n",
    "As you worked on this module, did you notice anything that could be improved? For example, did you find a typo in the module notebook? Did you find the explanation of a particular concept or block of code confusing? Is there something that just isn’t clicking for you? \n",
    "\n",
    "If you have any feedback for the content in this module, please enter it into the text block below. I will review feedback each week and make a list of things that should be changed before the next offering. \n",
    "\n",
    "Please know that *nothing you say here, however critical, will impact how I evaluate your work in this course*. There is no risk that I will assign a lower grade to you if you provide critical feedback. In fact, if the feedback you provide is thoughtful and constructive, I will assign up to 3% bonus marks on your final course grade. \n",
    "\n",
    "Thanks for your help improving the course! "
   ]
  },
  {
   "cell_type": "markdown",
   "metadata": {},
   "source": [
    "# Your Feedback Here :-) "
   ]
  },
  {
   "cell_type": "markdown",
   "metadata": {},
   "source": [
    "# Submit Your Notebook <a id='sub'>\n",
    "\n",
    "Congratulations on completing the first of 12 modules in this course! Now that you have finished, download the `.ipynb` notebook file using the `File` menu item above. From `File` select `Download as` and then `Notebook (ipynb)`. Once you have downloaded your notebook, upload it to the LEARN Dropbox for evaluation. \n",
    "\n",
    "# References \n",
    "\n",
    "Matt Salganik. 2017. *Bit by Bit: Social Research in the Digital Age*. Princeton: Princeton University Press. "
   ]
  }
 ],
 "metadata": {
  "kernelspec": {
   "display_name": "Python 3",
   "language": "python",
   "name": "python3"
  },
  "language_info": {
   "codemirror_mode": {
    "name": "ipython",
    "version": 3
   },
   "file_extension": ".py",
   "mimetype": "text/x-python",
   "name": "python",
   "nbconvert_exporter": "python",
   "pygments_lexer": "ipython3",
   "version": "3.7.6"
  }
 },
 "nbformat": 4,
 "nbformat_minor": 2
}
